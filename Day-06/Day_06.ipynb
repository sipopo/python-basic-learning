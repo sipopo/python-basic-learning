{
 "cells": [
  {
   "cell_type": "code",
   "execution_count": null,
   "metadata": {},
   "outputs": [],
   "source": [
    "def greet(name):\n",
    "    \"\"\" Функция здоровается с тобой \"\"\"\n",
    "    print(f'Привет, не повторимый {name}')\n",
    "\n",
    "\n",
    "# Текст основной программы\n",
    "greet('Незнайка')\n",
    "greet('Пончик')\n",
    "greet('Топтыга')"
   ]
  },
  {
   "cell_type": "markdown",
   "metadata": {},
   "source": [
    "dsd"
   ]
  }
 ],
 "metadata": {
  "language_info": {
   "name": "python"
  },
  "orig_nbformat": 4
 },
 "nbformat": 4,
 "nbformat_minor": 2
}
